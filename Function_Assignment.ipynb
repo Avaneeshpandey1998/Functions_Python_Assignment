{
  "cells": [
    {
      "cell_type": "markdown",
      "metadata": {
        "id": "KKLSPVLcwQpz"
      },
      "source": [
        "Question-1 What is the difference between a function and a method in Python?\n",
        "Answer:- Function-:A function is a structured, reusable code block utilized for carrying out a specific task. Functions facilitate the creation of modular code, simplifying maintenance and reusability.\n"
      ]
    },
    {
      "cell_type": "code",
      "execution_count": null,
      "metadata": {
        "colab": {
          "base_uri": "https://localhost:8080/"
        },
        "id": "2Va2bqb2xrhV",
        "outputId": "0d99c3f2-79dc-4bb9-be08-afd3c606f8c5"
      },
      "outputs": [
        {
          "data": {
            "text/plain": [
              "49"
            ]
          },
          "execution_count": 1,
          "metadata": {},
          "output_type": "execute_result"
        }
      ],
      "source": [
        "def square_no(a):\n",
        "  return a*a\n",
        "square_no(7)"
      ]
    },
    {
      "cell_type": "markdown",
      "metadata": {
        "id": "WITHfkRlx_Hf"
      },
      "source": [
        "Method:-A method in Python is somewhat similar to a function, except it is associated with object/classes. Methods in Python are very similar to functions except for two major differences.\n",
        "\n",
        "The method is implicitly used for an object for which it is called.\n",
        "\n",
        "The method is accessible to data that is contained within the class."
      ]
    },
    {
      "cell_type": "code",
      "execution_count": null,
      "metadata": {
        "colab": {
          "base_uri": "https://localhost:8080/"
        },
        "id": "xJzvC_HtycNR",
        "outputId": "cd81f6e0-aa9c-4df6-ccd7-aceb9759c6a3"
      },
      "outputs": [
        {
          "name": "stdout",
          "output_type": "stream",
          "text": [
            "I am a boy\n"
          ]
        }
      ],
      "source": [
        "class Pet(object):\n",
        "   def my_method(self):\n",
        "      print(\"I am a boy\")\n",
        "cat = Pet()\n",
        "cat.my_method()"
      ]
    },
    {
      "cell_type": "markdown",
      "metadata": {
        "id": "79BFjN8vzN-U"
      },
      "source": [
        "Diffrence:- Unlike a function, methods are called on an object. Like in our example above we call our method .i.e., \"my_method\" on the object \"boy\" whereas the function \"sum\" is called without any object. Also, because the method is called on an object, it can access that data within it.\n",
        "Unlike method which can alter the object's state, python function doesn't do this and normally operates on it."
      ]
    },
    {
      "cell_type": "markdown",
      "metadata": {
        "id": "jMmiNu021lhY"
      },
      "source": [
        "Question- 2  Explain the concept of function arguments and parameters in Python.\n",
        "Answer:- Argumrnts- An argument is the value that are sent to the function when it is called.\n",
        "Parameters - A parameter is the variable listed inside the parentheses in the function definition."
      ]
    },
    {
      "cell_type": "code",
      "execution_count": null,
      "metadata": {
        "colab": {
          "base_uri": "https://localhost:8080/"
        },
        "id": "NyDfmMVr3vAI",
        "outputId": "097b4ec0-58c4-4ed8-9c19-b4cdfe9074f5"
      },
      "outputs": [
        {
          "data": {
            "text/plain": [
              "5"
            ]
          },
          "execution_count": 3,
          "metadata": {},
          "output_type": "execute_result"
        }
      ],
      "source": [
        "def sum1(a,b):\n",
        "  return a+b\n",
        "sum1(2,3)"
      ]
    },
    {
      "cell_type": "code",
      "execution_count": null,
      "metadata": {
        "colab": {
          "base_uri": "https://localhost:8080/"
        },
        "id": "k9ciF13t4J4z",
        "outputId": "a00ea1af-09d5-48ed-8605-253fe88206fc"
      },
      "outputs": [
        {
          "data": {
            "text/plain": [
              "13"
            ]
          },
          "execution_count": 4,
          "metadata": {},
          "output_type": "execute_result"
        }
      ],
      "source": [
        "# Default arguement\n",
        "def sum(b,c,a=0):\n",
        "  return a+b+c\n",
        "sum(6,7)"
      ]
    },
    {
      "cell_type": "code",
      "execution_count": null,
      "metadata": {
        "colab": {
          "base_uri": "https://localhost:8080/"
        },
        "id": "dfzofcZ144Fa",
        "outputId": "96f7606e-d3d5-4c99-8739-f26d0cfa7134"
      },
      "outputs": [
        {
          "data": {
            "text/plain": [
              "203"
            ]
          },
          "execution_count": 10,
          "metadata": {},
          "output_type": "execute_result"
        }
      ],
      "source": [
        "# Variable arguement\n",
        "def sum1(*args):\n",
        "  s=0\n",
        "  for i in args:\n",
        "    s=s+i\n",
        "  return s\n",
        "sum1(1,2,200)"
      ]
    },
    {
      "cell_type": "markdown",
      "metadata": {
        "id": "_9e1Db-B6sFw"
      },
      "source": [
        "Question-3 What are the different ways to define and call a function in Python?\n",
        "Answer:- To call a function, use the function name followed by parenthesis.\n"
      ]
    },
    {
      "cell_type": "code",
      "execution_count": null,
      "metadata": {
        "colab": {
          "base_uri": "https://localhost:8080/"
        },
        "id": "722vXB-L9bLd",
        "outputId": "9a8bc087-dc56-45af-ad21-3eeee64f35a6"
      },
      "outputs": [
        {
          "name": "stdout",
          "output_type": "stream",
          "text": [
            "Hello pwskills\n"
          ]
        }
      ],
      "source": [
        "# Let us define a function by using the command \" def my_function():” and call the function. The output of the function will be “Hello pwskills”.\n",
        "# Define a Function\n",
        "def my_function():\n",
        "  print(\"Hello pwskills\")\n",
        "\n",
        "my_function()"
      ]
    },
    {
      "cell_type": "code",
      "execution_count": null,
      "metadata": {
        "colab": {
          "base_uri": "https://localhost:8080/",
          "height": 106
        },
        "id": "Hist3QbtwOp9",
        "outputId": "856c9f1a-dbb5-4f73-bdef-0ba1ad4f48c5"
      },
      "outputs": [
        {
          "ename": "IndentationError",
          "evalue": "expected an indented block after function definition on line 2 (<ipython-input-1-f33473560719>, line 3)",
          "output_type": "error",
          "traceback": [
            "\u001b[0;36m  File \u001b[0;32m\"<ipython-input-1-f33473560719>\"\u001b[0;36m, line \u001b[0;32m3\u001b[0m\n\u001b[0;31m    print(\"Hello pwskills\") #when \"print\" function is declared right below the def function then it shown the error\u001b[0m\n\u001b[0m    ^\u001b[0m\n\u001b[0;31mIndentationError\u001b[0m\u001b[0;31m:\u001b[0m expected an indented block after function definition on line 2\n"
          ]
        }
      ],
      "source": [
        "# Define a Function\n",
        "def my_function():\n",
        "print(\"Hello pwskills\") #when \"print\" function is declared right below the def function then it shown the error\n",
        "\n",
        "my_function()"
      ]
    },
    {
      "cell_type": "code",
      "execution_count": null,
      "metadata": {
        "colab": {
          "base_uri": "https://localhost:8080/"
        },
        "id": "1SU7BvTNxOEw",
        "outputId": "1aa166fd-2ef9-4fa1-b04c-be3aa77af79d"
      },
      "outputs": [
        {
          "name": "stdout",
          "output_type": "stream",
          "text": [
            "None\n"
          ]
        }
      ],
      "source": [
        "# return value\n",
        "def square(x):\n",
        "  y = x*x #without return value it show the output none\n",
        "print(square(2))"
      ]
    },
    {
      "cell_type": "code",
      "execution_count": null,
      "metadata": {
        "colab": {
          "base_uri": "https://localhost:8080/"
        },
        "id": "S4q56tCcxyO8",
        "outputId": "433eecfe-47ff-48ed-9134-17658e505a37"
      },
      "outputs": [
        {
          "name": "stdout",
          "output_type": "stream",
          "text": [
            "4\n"
          ]
        }
      ],
      "source": [
        "def square(x):\n",
        "  y = x*x\n",
        "  return y # when we run with return value then it will show the output\n",
        "print(square(2))"
      ]
    },
    {
      "cell_type": "code",
      "execution_count": null,
      "metadata": {
        "id": "59j6Lwr-yO6n"
      },
      "outputs": [],
      "source": [
        "def multiply(x,y): #declaring arguement\n",
        "  print(x*y)\n",
        "multiply(2,3) # passing arguement"
      ]
    },
    {
      "cell_type": "markdown",
      "metadata": {
        "id": "n1VL068dywqz"
      },
      "source": [
        "Question-4 What is the purpose of the `return` statement in a Python function?\n",
        "Answer:- A return statement is used to end the execution of the function call and “returns” the result (value of the expression following the return keyword) to the caller. The statements after the return statements are not executed. If the return statement is without any expression, then the special value None is returned. A return statement is overall used to invoke a function so that the passed statements can be executed."
      ]
    },
    {
      "cell_type": "code",
      "execution_count": null,
      "metadata": {
        "colab": {
          "base_uri": "https://localhost:8080/"
        },
        "id": "LyuroNbAzzn-",
        "outputId": "4c9e0dc3-c6c0-47e6-bf23-f326167b3a96"
      },
      "outputs": [
        {
          "data": {
            "text/plain": [
              "12"
            ]
          },
          "execution_count": 4,
          "metadata": {},
          "output_type": "execute_result"
        }
      ],
      "source": [
        "def sum1(a,b):\n",
        "  return a+b\n",
        "sum1(5,7)"
      ]
    },
    {
      "cell_type": "code",
      "execution_count": null,
      "metadata": {
        "colab": {
          "base_uri": "https://localhost:8080/"
        },
        "id": "qf5CQdu30hFI",
        "outputId": "80b746ef-07d6-4c63-df78-c0ffd7962218"
      },
      "outputs": [
        {
          "name": "stdout",
          "output_type": "stream",
          "text": [
            "Pwskills\n",
            "26\n"
          ]
        }
      ],
      "source": [
        "# using tuple\n",
        "# This function returns a tuple\n",
        "def fun():\n",
        "    str = \"Pwskills\"\n",
        "    x = 26\n",
        "    return str, x;  # Return tuple, we could also\n",
        "                    # write (str, x)\n",
        "str, x = fun() # Assign returned tuple\n",
        "print(str)\n",
        "print(x)\n"
      ]
    },
    {
      "cell_type": "code",
      "execution_count": null,
      "metadata": {
        "colab": {
          "base_uri": "https://localhost:8080/"
        },
        "id": "QvJNvILN06Ng",
        "outputId": "8719f01d-3140-4841-f164-01630867305d"
      },
      "outputs": [
        {
          "name": "stdout",
          "output_type": "stream",
          "text": [
            "['Pwskills', 26]\n"
          ]
        }
      ],
      "source": [
        "# using list\n",
        "# This function returns a list\n",
        "def fun():\n",
        "    str = \"Pwskills\"\n",
        "    x = 26\n",
        "    return [str, x];\n",
        "list = fun()\n",
        "print(list)\n"
      ]
    },
    {
      "cell_type": "code",
      "execution_count": null,
      "metadata": {
        "colab": {
          "base_uri": "https://localhost:8080/"
        },
        "id": "jVBar7Ol1H5B",
        "outputId": "8827b58d-9f32-4211-9715-98c1b5323f8e"
      },
      "outputs": [
        {
          "name": "stdout",
          "output_type": "stream",
          "text": [
            "{'str': 'Pwskills', 'x': 26}\n"
          ]
        }
      ],
      "source": [
        "# using dictionary\n",
        "# This function returns a dictionary\n",
        "def fun():\n",
        "    d = dict();\n",
        "    d['str'] = \"Pwskills\"\n",
        "    d['x']   = 26\n",
        "    return d\n",
        "d = fun()\n",
        "print(d)\n"
      ]
    },
    {
      "cell_type": "markdown",
      "metadata": {
        "id": "JVxqkSjA1gcg"
      },
      "source": [
        "Question- 5  What are iterators in Python and how do they differ from iterables?\n",
        "Answer:- An iterator is an object representing a stream of data.\n",
        "By the example we discuss this when we cooking a food then Potato is Iterable and choppping and washing is Iterator and also the process of cooking is Iteration."
      ]
    },
    {
      "cell_type": "markdown",
      "metadata": {
        "id": "xHK1Ejet28ce"
      },
      "source": [
        "Question-6  Explain the concept of generators in Python and how they are defined.\n",
        "Answer:- Genral function uses return statement but a generator function use yield ststement."
      ]
    },
    {
      "cell_type": "code",
      "execution_count": 2,
      "metadata": {
        "colab": {
          "base_uri": "https://localhost:8080/"
        },
        "id": "6g9YkHV-3r7q",
        "outputId": "ed9ef096-a398-4528-e1ed-a5e082240239"
      },
      "outputs": [
        {
          "output_type": "execute_result",
          "data": {
            "text/plain": [
              "<generator object fib at 0x7b29c625c9e0>"
            ]
          },
          "metadata": {},
          "execution_count": 2
        }
      ],
      "source": [
        "# fibonacci series\n",
        "def fib(n):\n",
        "  a=0\n",
        "  b=1\n",
        "  for i in range(n):\n",
        "    yield a\n",
        "    a,b=b,a+b\n",
        "fib(10)"
      ]
    },
    {
      "cell_type": "markdown",
      "source": [
        "Question-7 What are the advantages of using generators over regular functions?\n",
        "Answer:- There are some advantages of using generators over regular function.\n",
        "Speed: Generators can provide a performance boost by generating values on demand, rather than computing and storing them all at once. This can be especially beneficial when working with infinite sequences or large datasets.\n",
        "Readability: Generators can make code more readable by breaking down complex computations into smaller, manageable chunks. The yield statement clearly indicates where values are being produced, making the code easier to understand.\n",
        "Memory Efficiency: Generators yield values one by one, without storing all the values in memory at once. This is particularly useful when working with large data sets, as it avoids consuming excessive memory resources.\n",
        "Flexibility: Generators can be used to implement cooperative multitasking, allowing multiple tasks to yield control to each other, making them suitable for implementing coroutines."
      ],
      "metadata": {
        "id": "cXxQkFACxjFU"
      }
    },
    {
      "cell_type": "markdown",
      "source": [
        "Question-8 What is a lambda function in Python and when is it typically used?\n",
        "Answer:- Lambda is a anonymous function.In lambda no need of return statement and def keyword.\n",
        ""
      ],
      "metadata": {
        "id": "ImcuU0wqyyHD"
      }
    },
    {
      "cell_type": "code",
      "source": [
        "sq_lambda = lambda x: x**2\n",
        "sq_lambda(6)\n"
      ],
      "metadata": {
        "colab": {
          "base_uri": "https://localhost:8080/"
        },
        "id": "ker8UeMf0dbP",
        "outputId": "ddc1f6ca-245a-4d47-a10e-0697867dbb67"
      },
      "execution_count": 3,
      "outputs": [
        {
          "output_type": "execute_result",
          "data": {
            "text/plain": [
              "36"
            ]
          },
          "metadata": {},
          "execution_count": 3
        }
      ]
    },
    {
      "cell_type": "markdown",
      "source": [
        "Question-9  Explain the purpose and usage of the `map()` function in Python.\n",
        "Answer:-map() function returns a map object(which is an iterator) of the results after applying the given function to each item of a given iterable (list, tuple etc.)\n"
      ],
      "metadata": {
        "id": "qvZVc5hT1K1D"
      }
    },
    {
      "cell_type": "code",
      "source": [
        "numbers = (1, 2, 3, 4)\n",
        "result = map(lambda x: x + x, numbers)\n",
        "print(list(result))"
      ],
      "metadata": {
        "colab": {
          "base_uri": "https://localhost:8080/"
        },
        "id": "IhzWOI0p2ujL",
        "outputId": "78bf1b27-dd63-4dfa-aeb2-6bdb06ddfb7e"
      },
      "execution_count": 8,
      "outputs": [
        {
          "output_type": "stream",
          "name": "stdout",
          "text": [
            "[2, 4, 6, 8]\n"
          ]
        }
      ]
    },
    {
      "cell_type": "markdown",
      "source": [
        "Question- 10  What is the difference between `map()`, `reduce()`, and `filter()` functions in Python?\n",
        "Answer:-"
      ],
      "metadata": {
        "id": "s9ig5iDG2xBc"
      }
    },
    {
      "cell_type": "code",
      "source": [
        "#The map() function iterates through all items in the given iterable and executes the function we passed as an argument on each of them.\n",
        "numbers = (1, 2, 3, 4)\n",
        "result = map(lambda x: x * x, numbers)\n",
        "print(list(result))"
      ],
      "metadata": {
        "colab": {
          "base_uri": "https://localhost:8080/"
        },
        "id": "TJC9DFBw3ejP",
        "outputId": "2934b2f9-376c-421d-88f4-b9f61f9a38f6"
      },
      "execution_count": 9,
      "outputs": [
        {
          "output_type": "stream",
          "name": "stdout",
          "text": [
            "[1, 4, 9, 16]\n"
          ]
        }
      ]
    },
    {
      "cell_type": "code",
      "source": [
        "#reduce() works differently than map() and filter(). It does not return a new list based on the function and iterable we've passed. Instead, it returns a single value.\n",
        "from functools import reduce\n",
        "def factorial(n):\n",
        "  return reduce(lambda x, y: x * y, range(1, n + 1))\n",
        "factorial(5)"
      ],
      "metadata": {
        "colab": {
          "base_uri": "https://localhost:8080/"
        },
        "id": "Sw6-dXsi6D5c",
        "outputId": "cdab8452-49c3-4370-9ee5-73a8da430f2a"
      },
      "execution_count": 15,
      "outputs": [
        {
          "output_type": "execute_result",
          "data": {
            "text/plain": [
              "120"
            ]
          },
          "metadata": {},
          "execution_count": 15
        }
      ]
    },
    {
      "cell_type": "code",
      "source": [
        "# It is used to filter elements from an iterable based on some condition.\n",
        "#from functools import list\n",
        "l = [2,1,3,4,4,5,6]\n",
        "list(filter(lambda x: x%2==0,l))\n"
      ],
      "metadata": {
        "colab": {
          "base_uri": "https://localhost:8080/",
          "height": 193
        },
        "id": "CFS_6b7t6ZH4",
        "outputId": "b5f4f5f1-5c89-4153-dcd8-52df62cf6cb1"
      },
      "execution_count": 20,
      "outputs": [
        {
          "output_type": "error",
          "ename": "TypeError",
          "evalue": "'list' object is not callable",
          "traceback": [
            "\u001b[0;31m---------------------------------------------------------------------------\u001b[0m",
            "\u001b[0;31mTypeError\u001b[0m                                 Traceback (most recent call last)",
            "\u001b[0;32m<ipython-input-20-f33149911427>\u001b[0m in \u001b[0;36m<cell line: 4>\u001b[0;34m()\u001b[0m\n\u001b[1;32m      2\u001b[0m \u001b[0;31m#from functools import list\u001b[0m\u001b[0;34m\u001b[0m\u001b[0;34m\u001b[0m\u001b[0m\n\u001b[1;32m      3\u001b[0m \u001b[0ml\u001b[0m \u001b[0;34m=\u001b[0m \u001b[0;34m[\u001b[0m\u001b[0;36m2\u001b[0m\u001b[0;34m,\u001b[0m\u001b[0;36m1\u001b[0m\u001b[0;34m,\u001b[0m\u001b[0;36m3\u001b[0m\u001b[0;34m,\u001b[0m\u001b[0;36m4\u001b[0m\u001b[0;34m,\u001b[0m\u001b[0;36m4\u001b[0m\u001b[0;34m,\u001b[0m\u001b[0;36m5\u001b[0m\u001b[0;34m,\u001b[0m\u001b[0;36m6\u001b[0m\u001b[0;34m]\u001b[0m\u001b[0;34m\u001b[0m\u001b[0;34m\u001b[0m\u001b[0m\n\u001b[0;32m----> 4\u001b[0;31m \u001b[0mmy_list\u001b[0m \u001b[0;34m=\u001b[0m \u001b[0mlist\u001b[0m\u001b[0;34m(\u001b[0m\u001b[0mfilter\u001b[0m\u001b[0;34m(\u001b[0m\u001b[0;32mlambda\u001b[0m \u001b[0mx\u001b[0m\u001b[0;34m:\u001b[0m \u001b[0mx\u001b[0m\u001b[0;34m%\u001b[0m\u001b[0;36m2\u001b[0m\u001b[0;34m==\u001b[0m\u001b[0;36m0\u001b[0m\u001b[0;34m,\u001b[0m\u001b[0ml\u001b[0m\u001b[0;34m)\u001b[0m\u001b[0;34m)\u001b[0m\u001b[0;34m\u001b[0m\u001b[0;34m\u001b[0m\u001b[0m\n\u001b[0m\u001b[1;32m      5\u001b[0m \u001b[0mprint\u001b[0m\u001b[0;34m(\u001b[0m\u001b[0mmy_list\u001b[0m\u001b[0;34m)\u001b[0m\u001b[0;34m\u001b[0m\u001b[0;34m\u001b[0m\u001b[0m\n",
            "\u001b[0;31mTypeError\u001b[0m: 'list' object is not callable"
          ]
        }
      ]
    },
    {
      "cell_type": "markdown",
      "source": [
        "Question-11 Using pen & Paper write the internal mechanism for sum operation using  reduce function on this given\n",
        "list:[47,11,42,13];\n",
        "Answer:- ![WhatsApp Image 2024-09-20 at 8.39.01 PM.jpeg](data:image/jpeg;base64,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)"
      ],
      "metadata": {
        "id": "Hr0I0-sp8UDE"
      }
    },
    {
      "cell_type": "markdown",
      "source": [
        "### **Practicle Question:-**\n"
      ],
      "metadata": {
        "id": "kbPeFxkp_czo"
      }
    },
    {
      "cell_type": "code",
      "source": [
        "# Question - 1 Write a Python function that takes a list of numbers as input and returns the sum of all even numbers in the list.\n",
        "# Answer\n",
        "l = [1,2,3,4,5,6,7,8,9,10]\n",
        "sum(filter(lambda x: not x%2, l))\n"
      ],
      "metadata": {
        "colab": {
          "base_uri": "https://localhost:8080/"
        },
        "id": "EPCV1vAA_5lM",
        "outputId": "3c13c196-5620-4b43-f360-2b9e667a9ece"
      },
      "execution_count": 30,
      "outputs": [
        {
          "output_type": "execute_result",
          "data": {
            "text/plain": [
              "30"
            ]
          },
          "metadata": {},
          "execution_count": 30
        }
      ]
    },
    {
      "cell_type": "code",
      "source": [
        "# Question- 2  Create a Python function that accepts a string and returns the reverse of that string.\n",
        "#Answer\n",
        "def my_function(x):\n",
        "  return x[::-1]\n",
        "my_reverse = my_function(\"pwskills is a good plateform for data science\")\n",
        "print(my_reverse)"
      ],
      "metadata": {
        "colab": {
          "base_uri": "https://localhost:8080/"
        },
        "id": "RC1hfPiEDEF1",
        "outputId": "6dda807a-dde0-48c7-db0d-8aa5417002bb"
      },
      "execution_count": 31,
      "outputs": [
        {
          "output_type": "stream",
          "name": "stdout",
          "text": [
            "ecneics atad rof mrofetalp doog a si sllikswp\n"
          ]
        }
      ]
    },
    {
      "cell_type": "code",
      "source": [
        "# Question - 3  Implement a Python function that takes a list of integers and returns a new list containing the squares of each number.\n",
        "# Answer:-\n",
        "def my_function(x):\n",
        "  return [i**2 for i in x]\n",
        "my_list = my_function([1,2,3,4,5,6,7,8,9,10])\n",
        "print(my_list)"
      ],
      "metadata": {
        "colab": {
          "base_uri": "https://localhost:8080/"
        },
        "id": "nD1dv1Y6Eeo1",
        "outputId": "145a75a6-eee9-4364-db86-8c306f72fc77"
      },
      "execution_count": 32,
      "outputs": [
        {
          "output_type": "stream",
          "name": "stdout",
          "text": [
            "[1, 4, 9, 16, 25, 36, 49, 64, 81, 100]\n"
          ]
        }
      ]
    },
    {
      "cell_type": "code",
      "source": [
        "# Question- 4  Write a Python function that checks if a given number is prime or not from 1 to 200.\n",
        "# Answer:-\n",
        "def is_prime(n):\n",
        "    if (n == 1):\n",
        "        return False\n",
        "    elif (n == 2):\n",
        "        return True\n",
        "    else:\n",
        "        for x in range(2, n):\n",
        "            if (n % x == 0):\n",
        "                return False\n",
        "        return True\n",
        "print(is_prime(197))\n"
      ],
      "metadata": {
        "colab": {
          "base_uri": "https://localhost:8080/"
        },
        "id": "QrqfA4CQFE01",
        "outputId": "968ac6cd-f76a-4dcb-ae7a-32f4fc95b462"
      },
      "execution_count": 46,
      "outputs": [
        {
          "output_type": "stream",
          "name": "stdout",
          "text": [
            "True\n"
          ]
        }
      ]
    },
    {
      "cell_type": "code",
      "source": [
        "# Question -5  Create an iterator class in Python that generates the Fibonacci sequence up to a specified number of terms.\n",
        "# Answer:-\n",
        "def fib (n):\n",
        "  a=0\n",
        "  b=1\n",
        "  for i in range (n):\n",
        "    yield a\n",
        "    a,b=b,a+b\n",
        "fib(10)\n"
      ],
      "metadata": {
        "colab": {
          "base_uri": "https://localhost:8080/"
        },
        "id": "H_cyB_uMKlLH",
        "outputId": "e4cb2e9f-a867-4726-8029-436133fcd1da"
      },
      "execution_count": 49,
      "outputs": [
        {
          "output_type": "execute_result",
          "data": {
            "text/plain": [
              "<generator object fib at 0x7b29a99b1700>"
            ]
          },
          "metadata": {},
          "execution_count": 49
        }
      ]
    },
    {
      "cell_type": "code",
      "source": [
        "# Question -6  Write a generator function in Python that yields the powers of 2 up to a given exponent.\n",
        "#Answer:-\n",
        "def square_number_generators(n):\n",
        "  for i in range(n):\n",
        "    yield 2**i\n",
        "square_number_generators(10)"
      ],
      "metadata": {
        "colab": {
          "base_uri": "https://localhost:8080/"
        },
        "id": "2AjQqmGcOj3j",
        "outputId": "35ebbb1c-fda2-4264-e850-447c7382cd29"
      },
      "execution_count": 50,
      "outputs": [
        {
          "output_type": "execute_result",
          "data": {
            "text/plain": [
              "<generator object square_number_generators at 0x7b29a99b3d80>"
            ]
          },
          "metadata": {},
          "execution_count": 50
        }
      ]
    },
    {
      "cell_type": "code",
      "source": [
        "from os import read\n",
        "# Question- 7  Implement a generator function that reads a file line by line and yields each line as a string.\n",
        "#Answer:-\n",
        "def read_file_lines(filename):\n",
        "    with open(filename, 'r') as file:\n",
        "        for line in file:\n",
        "            yield line.strip()\n",
        "read_file_lines(\"pwskills\\n\")"
      ],
      "metadata": {
        "colab": {
          "base_uri": "https://localhost:8080/"
        },
        "id": "Retkp-wcVUTy",
        "outputId": "e6abc277-8ce6-4a13-f62c-0ea2656635de"
      },
      "execution_count": 53,
      "outputs": [
        {
          "output_type": "execute_result",
          "data": {
            "text/plain": [
              "<generator object read_file_lines at 0x7b29a99b37d0>"
            ]
          },
          "metadata": {},
          "execution_count": 53
        }
      ]
    },
    {
      "cell_type": "code",
      "source": [
        "#Question - 8  Use a lambda function in Python to sort a list of tuples based on the second element of each tuple.\n",
        "#Answer:-\n",
        "subject_marks = [('English', 78), ('Science', 92), ('Maths', 98), ('Social sciences', 82)]\n",
        "print(\"Original list of tuples:\")\n",
        "print(subject_marks)\n",
        "subject_marks.sort(key=lambda x: x[1])\n",
        "print(\"\\nSorting the List of Tuples:\")\n",
        "print(subject_marks)"
      ],
      "metadata": {
        "colab": {
          "base_uri": "https://localhost:8080/"
        },
        "id": "qp3bxzHSYQbp",
        "outputId": "5db48893-3736-4c60-b534-e5a014351d0f"
      },
      "execution_count": 2,
      "outputs": [
        {
          "output_type": "stream",
          "name": "stdout",
          "text": [
            "Original list of tuples:\n",
            "[('English', 78), ('Science', 92), ('Maths', 98), ('Social sciences', 82)]\n",
            "\n",
            "Sorting the List of Tuples:\n",
            "[('English', 78), ('Social sciences', 82), ('Science', 92), ('Maths', 98)]\n"
          ]
        }
      ]
    },
    {
      "cell_type": "code",
      "source": [
        "# Question -9 Write a Python program that uses `map()` to convert a list of temperatures from Celsius to Fahrenheit.\n",
        "#Answer:-\n",
        "celsius = [33.2, 39.5, 31.3, 32, 35.8]\n",
        "fahrenheit = list(map(lambda x: (float(9)/5)*x + 32, celsius))\n",
        "print (fahrenheit)"
      ],
      "metadata": {
        "colab": {
          "base_uri": "https://localhost:8080/"
        },
        "id": "VSoWrH76_Mee",
        "outputId": "5b51c093-0b39-4aa3-9902-0eca787c41dd"
      },
      "execution_count": 4,
      "outputs": [
        {
          "output_type": "stream",
          "name": "stdout",
          "text": [
            "[91.76, 103.10000000000001, 88.34, 89.6, 96.44]\n"
          ]
        }
      ]
    },
    {
      "cell_type": "code",
      "source": [
        "# Question- 10 Create a Python program that uses `filter()` to remove all the vowels from a given string.\n",
        "# Answer:-\n",
        "import re\n",
        "def rem_vowel(string):\n",
        "\treturn (re.sub(\"[aeiouAEIOU]\",\"\",string))\n",
        "string = \"pwskills - A Data science course for working professional\"\n",
        "print(rem_vowel(string))\n"
      ],
      "metadata": {
        "colab": {
          "base_uri": "https://localhost:8080/"
        },
        "id": "N9oLIO54_saX",
        "outputId": "c0842dde-6f7b-4125-b10c-88ed5f21b569"
      },
      "execution_count": 5,
      "outputs": [
        {
          "output_type": "stream",
          "name": "stdout",
          "text": [
            "pwsklls -  Dt scnc crs fr wrkng prfssnl\n"
          ]
        }
      ]
    },
    {
      "cell_type": "code",
      "source": [],
      "metadata": {
        "id": "__XFolaAD_nj"
      },
      "execution_count": null,
      "outputs": []
    }
  ],
  "metadata": {
    "colab": {
      "provenance": []
    },
    "kernelspec": {
      "display_name": "Python 3",
      "name": "python3"
    },
    "language_info": {
      "name": "python"
    }
  },
  "nbformat": 4,
  "nbformat_minor": 0
}